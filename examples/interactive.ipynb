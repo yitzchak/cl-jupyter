{
 "cells": [
  {
   "cell_type": "code",
   "execution_count": null,
   "metadata": {},
   "outputs": [],
   "source": [
    "(defparameter plist (list :fu 3 :baz \"Some text\"))"
   ]
  },
  {
   "cell_type": "code",
   "execution_count": null,
   "metadata": {},
   "outputs": [],
   "source": [
    "(jupyter-widgets:make-interactive-plist\n",
    "  '((:indicator :fu :type :int :label \"fu (int)\")\n",
    "    (:indicator :bar :type :int :label \"bar (bounded int)\" :style :bounded-text)\n",
    "    (:indicator :quux :type :int :label \"quux (slider int)\" :style :slider :min -10 :max 10)\n",
    "    (:indicator :wibble :type :float :label \"wibble (float)\")\n",
    "    (:indicator :baz :type :string :label \"baz (string)\")\n",
    "    (:indicator :gronk :type :bool :label \"gronk (bool checkbox)\")\n",
    "    (:indicator :angle :type :bool :label \"angle (bool toggle)\" :description \"angle\" :style :toggle))\n",
    "  plist)"
   ]
  },
  {
   "cell_type": "code",
   "execution_count": null,
   "metadata": {},
   "outputs": [],
   "source": [
    "plist"
   ]
  },
  {
   "cell_type": "code",
   "execution_count": null,
   "metadata": {},
   "outputs": [],
   "source": [
    "(defparameter alist (list (cons \"fu\" 1) (cons \"lima\" (list \"wibble\" \"wibble\")) (cons \"quux\" \"gronk\")))"
   ]
  },
  {
   "cell_type": "code",
   "execution_count": null,
   "metadata": {},
   "outputs": [],
   "source": [
    "(jupyter-widgets:make-interactive-alist\n",
    "  '((:indicator \"fu\" :type :int :label \"fu (int)\")\n",
    "    (:indicator \"baz\" :type :string :label \"baz (string)\")\n",
    "    (:indicator \"quux\" :type :option :label \"quux (option)\" :options (\"wibble\" \"gronk\" \"kilroy\"))\n",
    "    (:indicator \"foxtrot\" :type :option :label \"foxtrot (option dropdown)\" :options (\"wibble\" \"gronk\" \"kilroy\") :style :dropdown)\n",
    "    (:indicator \"india\" :type :option :label \"india (option dropdown)\" :options (\"wibble\" \"gronk\" \"kilroy\") :style :slider)\n",
    "    (:indicator \"tango\" :type :option :label \"tango (option dropdown)\" :options (\"wibble\" \"gronk\" \"kilroy\") :style :radio)\n",
    "    #+(or)(:indicator \"lima\" :type :option-range :label \"lima (option range)\" :options (\"wibble\" \"gronk\" \"kilroy\") :style :radio))\n",
    "  alist :test #'string=)"
   ]
  },
  {
   "cell_type": "code",
   "execution_count": null,
   "metadata": {},
   "outputs": [],
   "source": [
    "alist"
   ]
  },
  {
   "cell_type": "code",
   "execution_count": null,
   "metadata": {},
   "outputs": [],
   "source": [
    "(make-instance 'jupyter-widgets:select :%options-labels '(\"wibble\" \"gronk\" \"kilroy\") :value \"gronk\")"
   ]
  },
  {
   "cell_type": "code",
   "execution_count": null,
   "metadata": {},
   "outputs": [],
   "source": []
  }
 ],
 "metadata": {
  "kernelspec": {
   "display_name": "Common Lisp (SBCL)",
   "language": "common-lisp",
   "name": "common-lisp_sbcl"
  },
  "language_info": {
   "codemirror_mode": "text/x-common-lisp",
   "file_extension": ".lisp",
   "mimetype": "text/x-common-lisp",
   "name": "common-lisp",
   "pygments_lexer": "common-lisp",
   "version": "2.0.8"
  }
 },
 "nbformat": 4,
 "nbformat_minor": 4
}
